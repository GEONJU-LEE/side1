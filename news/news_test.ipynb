{
 "cells": [
  {
   "cell_type": "code",
   "execution_count": 1,
   "metadata": {},
   "outputs": [],
   "source": [
    "import requests\n",
    "import json\n"
   ]
  },
  {
   "cell_type": "code",
   "execution_count": 2,
   "metadata": {},
   "outputs": [],
   "source": [
    "\n",
    "client_id = 'o_cCpod6Tio4PYgYkLBH'\n",
    "client_secret = '9NQQU77Gyq'\n",
    "\n",
    "def get_latest_news(query):\n",
    "    url = f'https://openapi.naver.com/v1/search/news.json?query={query}&sort=date'\n",
    "    \n",
    "    headers = {\n",
    "        'X-Naver-Client-Id': client_id,\n",
    "        'X-Naver-Client-Secret': client_secret\n",
    "    }\n",
    "    \n",
    "    response = requests.get(url, headers=headers)\n",
    "    \n",
    "    if response.status_code == 200:\n",
    "        news_data = response.json()\n",
    "        return news_data['items']\n",
    "    else:\n",
    "        print(f\"Error: {response.status_code}\")\n",
    "        return []\n",
    "\n",
    "def display_news(articles):\n",
    "    for idx, article in enumerate(articles, start=1):\n",
    "        print(f\"{idx}. Title: {article['title']}\")\n",
    "        print(f\"   Description: {article['description']}\")\n",
    "        print(f\"   URL: {article['link']}\\n\")\n",
    "\n",
    "# if __name__ == \"__main__\":\n",
    "#     query = input(\"Enter search term: \")\n",
    "#     articles = get_latest_news(query)\n",
    "#     if articles:\n",
    "#         display_news(articles)\n",
    "#     else:\n",
    "#         print(\"No articles found.\")\n"
   ]
  },
  {
   "cell_type": "code",
   "execution_count": 3,
   "metadata": {},
   "outputs": [],
   "source": [
    "query = '손흥민'\n",
    "\n",
    "res = get_latest_news(query)"
   ]
  },
  {
   "cell_type": "code",
   "execution_count": 6,
   "metadata": {},
   "outputs": [
    {
     "name": "stdout",
     "output_type": "stream",
     "text": [
      "1. Title: '토트넘과 맞대결' 팀 K리그 '팬 일레븐' 명단 확정...이승우-린가드-기성용 ...\n",
      "   Description: 투표 1위 이승우…린가드·황재원·세징야 순 팀 K리그 팬 일레븐 투표 결과.뉴시스 <b>손흥민</b>이 소속된 잉글랜드 프리미어리그 토트넘 홋스퍼와 맞대결을 펼칠 ‘팀 K리그’ 베스트11이 확정됐다.... \n",
      "   URL: https://m.sports.naver.com/kfootball/article/022/0003951119\n",
      "\n",
      "2. Title: '이강인도 있는데 왜?'...'BTS 진' 프랑스 파리서 성화봉송\n",
      "   Description: 반면 일각에서는 같은 삼성전자 모델인 잉글랜드 프로축구 프리미어리그 토트넘의 주장 <b>손흥민</b> 선수와 이번 올림픽 개최국인 프랑스의 프로축구 리그앙 파리 생제르맹 이강인 선수 등의 한국 유명 인사는 뽑히지... \n",
      "   URL: https://m.entertain.naver.com/article/445/0000218098\n",
      "\n",
      "3. Title: 황희찬 이적 요청?...챔피언스리그 우승 경력 팀 러브콜\n",
      "   Description: 토트넘 <b>손흥민</b>과의 코리안 더비도 항상 많은 관심을 받아온 만큼 이번 이적이 성사될지 귀추가 주목된다. 한편, 황희찬은 2015년 오스트리아 잘츠부르크로 이적한 뒤 뛰어난 활약으로 2020년 독일 라이프치히로 구단을... \n",
      "   URL: https://www.mhns.co.kr/news/articleView.html?idxno=615127\n",
      "\n",
      "4. Title: '<b>손흥민</b>의 토트넘과 맞대결' 팀 K리그 '팬 일레븐' 명단 확정...이승우-린가드...\n",
      "   Description: <b>손흥민</b>이 소속된 잉글랜드 프리미어리그 토트넘 홋스퍼와 맞대결을 펼칠 '팀 K리그' 베스트11이 결정됐다. 한국프로축구연맹은 &quot;오는 31일 서울월드컵경기장에서 열리는 쿠팡플레이 시리즈 1경기 토트넘과의... \n",
      "   URL: https://m.sports.naver.com/kfootball/article/445/0000218096\n",
      "\n",
      "5. Title: 이승우, 토트넘 방한경기 나설 '팀 K리그' 팬투표서 최다 득표\n",
      "   Description: 이승우(수원FC)가 '캡틴' <b>손흥민</b>이 이끄는 토트넘(잉글랜드)의 방한 경기에 나서는 팀 K리그의 '팬 일레븐' 투표에서 최다 득표를 차지했다. 한국프로축구연맹은 &quot;지난 5∼14일 K리그 공식 애플리케이션 '킥(Kick)... \n",
      "   URL: https://m.sports.naver.com/kfootball/article/025/0003373637\n",
      "\n",
      "6. Title: [FC온라인] 이주의 스쿼드! 효율을 극대화시킨 유저들의 가성비 스쿼드 20선\n",
      "   Description: - 차범근, 박주영, <b>손흥민</b>, 김민재를 모두 기용한 대한민국 스쿼드. - ICON-차범근의 실제 가격을 고려할 경우 구단 가치가 8조 BP 이하라고 보는 것이 적합. - 비록 현재 트렌디한 팀컬러는 아니지만 특유의 안정적인... \n",
      "   URL: https://m.sports.naver.com/esports/article/442/0000174114\n",
      "\n",
      "7. Title: '황희찬 위한' 주먹질…&quot;우리 차니 지켜&quot; 울버햄턴 UEFA에 인종차별 항의 선언\n",
      "   Description: 최근 <b>손흥민</b>도 인종차별 피해를 당한 바 있어 한국 축구 팬들에겐 이번 사건이 더욱 충격이다. 토트넘에서 <b>손흥민</b>과 함께 뛰고 있는 벤탄쿠르는 코파 아메리카를 앞두고 지난달 우루과이 방송 프로그램인 '포를라... \n",
      "   URL: https://m.sports.naver.com/wfootball/article/477/0000501996\n",
      "\n",
      "8. Title: &quot;이것 실화지&quot; '14살 차' 토트넘 만찢남의 치명적 '투샷'…벌써 'SON 라인' 된...\n",
      "   Description: 토트넘이 16일(이하 한국시각) 구단 SNS를 통해 <b>손흥민</b>(32)과 스웨덴 출신의 초신성 루카스 베리발(18)의 '투샷'을 공개했다. 둘은 훈련에 앞서 엄지를 세우고 포즈를 취했다. <b>손흥민</b>은 베리발과 '투샷'을 자신의 SNS... \n",
      "   URL: https://m.sports.naver.com/wfootball/article/076/0004169290\n",
      "\n",
      "9. Title: 황희찬 인종차별 당하자 격분한 동료…주먹 날리고 퇴장당해\n",
      "   Description: 앞서 지난해 5월께 토트넘의 <b>손흥민</b>도 팬에게 인종차별을 당한 바 있다. <b>손흥민</b>을 향해 인종차별 동작을 한 이 영국 축구 팬은 향후 3년간 모든 축구 경기를 보지 못하게 됐다. 아울러 월드컵과 같은 국제 축구 경기... \n",
      "   URL: https://n.news.naver.com/mnews/article/277/0005446374?sid=104\n",
      "\n",
      "10. Title: 포차천국, 대한민국 한정판 '토트넘 맥주' 프로모션 진행\n",
      "   Description: 토트넘은 제임스 매디슨, 히샬리송, 크리스티안 로메로, 그리고 클럽 주장 <b>손흥민</b> 등 세계적인 선수를... 예정이며, △<b>손흥민</b> 선수 유니폼(7명), △포차천국 1만원 상품권(100명) 등 다양한 경품을 증정할 예정이다. 이벤트... \n",
      "   URL: https://www.datanet.co.kr/news/articleView.html?idxno=195084\n",
      "\n"
     ]
    }
   ],
   "source": [
    "display_news(res)"
   ]
  },
  {
   "cell_type": "code",
   "execution_count": null,
   "metadata": {},
   "outputs": [],
   "source": []
  }
 ],
 "metadata": {
  "kernelspec": {
   "display_name": "Python 3",
   "language": "python",
   "name": "python3"
  },
  "language_info": {
   "codemirror_mode": {
    "name": "ipython",
    "version": 3
   },
   "file_extension": ".py",
   "mimetype": "text/x-python",
   "name": "python",
   "nbconvert_exporter": "python",
   "pygments_lexer": "ipython3",
   "version": "3.12.3"
  }
 },
 "nbformat": 4,
 "nbformat_minor": 2
}
